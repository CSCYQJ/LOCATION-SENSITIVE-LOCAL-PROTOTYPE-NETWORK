{
 "cells": [
  {
   "cell_type": "code",
   "execution_count": null,
   "metadata": {
    "ExecuteTime": {
     "end_time": "2020-07-16T02:26:01.742543Z",
     "start_time": "2020-07-16T02:26:01.468753Z"
    }
   },
   "outputs": [],
   "source": [
    "import numpy as np,os\n",
    "import random\n",
    "import nibabel as nb\n",
    "import glob\n",
    "import cv2 as cv\n",
    "import glob\n",
    "import matplotlib\n",
    "from matplotlib import pyplot as plt\n",
    "from PIL import Image"
   ]
  },
  {
   "cell_type": "code",
   "execution_count": null,
   "metadata": {
    "ExecuteTime": {
     "end_time": "2020-07-16T02:26:03.432061Z",
     "start_time": "2020-07-16T02:26:03.417198Z"
    }
   },
   "outputs": [],
   "source": [
    "num2label={'58':1,'86':2,'170':3,'30324':4,'30325':5,'187':6,'40357':7,'40358':8,'237':9,'29193':10,'1302':11,\n",
    "           '1326':12,'29662':13,'29663':14,'480':15,'2473':16,'32248':17,'32249':18,'7578':19,'1247':20}\n",
    "num_list=['58','86','170','30324','30325','187','40357','40358','237','29193',\n",
    "          '1302','1326','29662','29663','480','2473','32248','32249','7578','1247']\n",
    "volumes_path=\"/home/qinji/Visceral/SilverCorpus/Volumes/\"\n",
    "seg_path=\"/home/qinji/Visceral/SilverCorpus/Segmentations/\"\n",
    "total_volumes=glob.glob(os.path.join(volumes_path,'*_1_CTce_ThAb*'))\n"
   ]
  },
  {
   "cell_type": "code",
   "execution_count": null,
   "metadata": {
    "ExecuteTime": {
     "end_time": "2020-07-16T02:26:23.665701Z",
     "start_time": "2020-07-16T02:26:23.656422Z"
    },
    "tags": []
   },
   "outputs": [],
   "source": [
    "print(len(total_volumes))\n",
    "image_save_path='/home/qinji/Local_prototype_network/data/Visceral/Organ_images/'\n",
    "seg_save_path=\"/home/qinji/Local_prototype_network/data/Visceral/SegmentationClass/\"\n",
    "os.makedirs(image_save_path)\n",
    "os.makedirs(seg_save_path)"
   ]
  },
  {
   "cell_type": "code",
   "execution_count": null,
   "metadata": {
    "ExecuteTime": {
     "end_time": "2020-07-16T02:26:27.257521Z",
     "start_time": "2020-07-16T02:26:27.240475Z"
    }
   },
   "outputs": [],
   "source": [
    "def get_range(volume):\n",
    "    _,_,batch = volume.shape\n",
    "    slice_with_class = np.sum(volume.reshape(-1,batch), axis=0) > 150\n",
    "    range_index=[]\n",
    "    for i in range(batch-1):\n",
    "        if slice_with_class[i]==True:\n",
    "            range_index.append(i)\n",
    "    if len(range_index)>0:\n",
    "        print(min(range_index),max(range_index))\n",
    "    if len(range_index)>20:\n",
    "        range_index=random.sample(range_index,5)\n",
    "    return range_index\n",
    "\n",
    "def save_img(img,save_path):\n",
    "    try:\n",
    "        cv.imwrite(save_path,img)\n",
    "    except:\n",
    "        print('Image is empty')\n",
    "\n",
    "def gray_scale(img_gray):\n",
    "    #img_gray = cv2.cvtColor(image,cv2.COLOR_RGB2GRAY)\n",
    "    if len(img_gray.shape)==2:\n",
    "        rows,cols = img_gray.shape\n",
    "    else:\n",
    "        print('Wrong!')\n",
    "        return img_gray\n",
    "    im1 = img_gray.astype(float)\n",
    "    A,B=im1.min(),im1.max()\n",
    "    im1 -= A\n",
    "    im1 /= B-A\n",
    "    im1 *= 255\n",
    "    return im1"
   ]
  },
  {
   "cell_type": "code",
   "execution_count": null,
   "metadata": {
    "ExecuteTime": {
     "end_time": "2020-07-16T04:29:30.822665Z",
     "start_time": "2020-07-16T02:26:28.860885Z"
    },
    "tags": []
   },
   "outputs": [],
   "source": [
    "for volume_path in total_volumes:\n",
    "    volume_nifty = nb.load(volume_path)\n",
    "    volume = volume_nifty.get_fdata()\n",
    "    print(volume.shape)\n",
    "    pid=volume_path.split('/')[-1].split('_')[0]\n",
    "    segmentations=glob.glob(os.path.join(seg_path,pid+'_*'))\n",
    "    for segmentation_path in segmentations:\n",
    "        num=segmentation_path.split('/')[-1].split('_')[2]\n",
    "        if num in num_list:\n",
    "            label=num2label[num]\n",
    "        else:\n",
    "            continue\n",
    "        print(pid,num,label)\n",
    "        seg_nifty=nb.load(segmentation_path)\n",
    "        seg_label=seg_nifty.get_fdata()\n",
    "        range_index=get_range(seg_label)\n",
    "        if len(range_index)==0:\n",
    "            continue\n",
    "        \n",
    "        #print(segmentation_path)\n",
    "        count=0\n",
    "        for index in range_index:\n",
    "            seg_save=seg_label[:,:,index].transpose()\n",
    "            seg_save=label*(seg_save>0.1)\n",
    "            volume_name='_'.join([pid,str(label),str(count)])+'.jpg'\n",
    "            seg_name='_'.join([pid,str(label),str(count)])+'.png'\n",
    "            save_img(gray_scale(volume[:,:,index].transpose()),os.path.join(image_save_path,volume_name))\n",
    "            save_img(seg_save,os.path.join(seg_save_path,seg_name))\n",
    "            count+=1"
   ]
  },
  {
   "cell_type": "code",
   "execution_count": null,
   "metadata": {
    "ExecuteTime": {
     "end_time": "2020-07-16T05:00:26.339957Z",
     "start_time": "2020-07-16T05:00:26.334619Z"
    }
   },
   "outputs": [],
   "source": [
    "txt_path=\"/home/qinji/Local_prototype_network/data/Visceral/Segmentation\"\n",
    "os.makedirs(txt_path)"
   ]
  },
  {
   "cell_type": "code",
   "execution_count": null,
   "metadata": {
    "ExecuteTime": {
     "end_time": "2020-07-16T05:00:27.071158Z",
     "start_time": "2020-07-16T05:00:27.029625Z"
    }
   },
   "outputs": [],
   "source": [
    "train_images=os.listdir(image_save_path)\n",
    "txt_name=os.path.join(txt_path,'trainaug.txt')\n",
    "with open(txt_name,'a') as file_handle:\n",
    "    for image in train_images:\n",
    "        class_label=image.split('_')[1]\n",
    "        if class_label=='checkpoints':\n",
    "            continue\n",
    "        file_handle.writelines(image.split('.')[0])     \n",
    "        file_handle.writelines('\\n')"
   ]
  },
  {
   "cell_type": "code",
   "execution_count": null,
   "metadata": {
    "ExecuteTime": {
     "end_time": "2020-07-16T05:00:29.300603Z",
     "start_time": "2020-07-16T05:00:29.277518Z"
    },
    "tags": []
   },
   "outputs": [],
   "source": [
    "train_images=os.listdir(image_save_path)\n",
    "image_list=[[] for i in range(20)]\n",
    "for image in train_images:\n",
    "    class_label=image.split('_')[1]\n",
    "    if class_label=='checkpoints':\n",
    "        continue\n",
    "    image_list[int(class_label)-1].append(image)\n",
    "sum=0\n",
    "for i in range(20):\n",
    "    sum+=len(image_list[i])\n",
    "print(sum)"
   ]
  },
  {
   "cell_type": "code",
   "execution_count": null,
   "metadata": {
    "ExecuteTime": {
     "end_time": "2020-07-16T05:01:48.258450Z",
     "start_time": "2020-07-16T05:01:48.212566Z"
    }
   },
   "outputs": [],
   "source": [
    "os.makedirs(os.path.join(txt_path,'trainaug'))\n",
    "image_list=[[] for i in range(20)]\n",
    "for image in train_images:\n",
    "    class_label=image.split('_')[1]\n",
    "    if class_label=='checkpoints':\n",
    "        continue\n",
    "    image_list[int(class_label)-1].append(image)\n",
    "\n",
    "for num in num_list:\n",
    "    i=num2label[num]\n",
    "    txt_name=os.path.join(txt_path,'trainaug','class'+str(i)+'.txt')\n",
    "    with open(txt_name,'a') as f:\n",
    "        for j in range(len(image_list[i-1])):\n",
    "            f.writelines(image_list[i-1][j].split('.')[0])\n",
    "            f.writelines('\\n')"
   ]
  },
  {
   "cell_type": "code",
   "execution_count": null,
   "metadata": {},
   "outputs": [],
   "source": []
  }
 ],
 "metadata": {
  "kernelspec": {
   "display_name": "Python 3",
   "language": "python",
   "name": "python3"
  },
  "language_info": {
   "codemirror_mode": {
    "name": "ipython",
    "version": 3
   },
   "file_extension": ".py",
   "mimetype": "text/x-python",
   "name": "python",
   "nbconvert_exporter": "python",
   "pygments_lexer": "ipython3",
   "version": "3.7.4"
  },
  "varInspector": {
   "cols": {
    "lenName": 16,
    "lenType": 16,
    "lenVar": 40
   },
   "kernels_config": {
    "python": {
     "delete_cmd_postfix": "",
     "delete_cmd_prefix": "del ",
     "library": "var_list.py",
     "varRefreshCmd": "print(var_dic_list())"
    },
    "r": {
     "delete_cmd_postfix": ") ",
     "delete_cmd_prefix": "rm(",
     "library": "var_list.r",
     "varRefreshCmd": "cat(var_dic_list()) "
    }
   },
   "types_to_exclude": [
    "module",
    "function",
    "builtin_function_or_method",
    "instance",
    "_Feature"
   ],
   "window_display": false
  }
 },
 "nbformat": 4,
 "nbformat_minor": 2
}